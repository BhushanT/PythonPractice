{
 "cells": [
  {
   "cell_type": "markdown",
   "metadata": {},
   "source": [
    "# Exercise 1"
   ]
  },
  {
   "cell_type": "code",
   "execution_count": 12,
   "metadata": {},
   "outputs": [
    {
     "name": "stdout",
     "output_type": "stream",
     "text": [
      "Today's Date: 2024-06-17\n",
      "Time right now: 04:16:46 PM\n",
      "Next Birthday Date: 2025-04-10\n",
      "Number of days until next birthday: 296 days, 7:43:13.284206\n"
     ]
    }
   ],
   "source": [
    "import datetime\n",
    "import time\n",
    "\n",
    "today = datetime.datetime.now()\n",
    "my_birthday = datetime.datetime(2025, 4, 10)\n",
    "print(\"Today's Date: \" + today.strftime(\"%Y-%m-%d\"))\n",
    "print(\"Time right now: \" + today.strftime(\"%I:%M:%S %p\"))\n",
    "print(\"Next Birthday Date: \" + my_birthday.strftime(\"%Y-%m-%d\"))\n",
    "\n",
    "difference = my_birthday - today\n",
    "print(\"Number of days until next birthday: \" + str(difference))\n",
    "\n"
   ]
  },
  {
   "cell_type": "markdown",
   "metadata": {},
   "source": [
    "# Exercise 2"
   ]
  },
  {
   "cell_type": "code",
   "execution_count": 18,
   "metadata": {},
   "outputs": [
    {
     "name": "stdout",
     "output_type": "stream",
     "text": [
      "{'Alice': {'Math': 42, 'Science': 73, 'English': 72}, 'Bob': {'Math': 88, 'Science': 53, 'English': 38}, 'Carl': {'Math': 24, 'Science': 76, 'English': 45}, 'David': {'Math': 24, 'Science': 99, 'English': 90}}\n",
      "{'Alice', 'Bob', 'Carl', 'David'}\n"
     ]
    }
   ],
   "source": [
    "import random \n",
    "\n",
    "student_dict = {\n",
    "    \"Alice\": \"A\",\n",
    "    \"Bob\": \"B+\",\n",
    "    \"Carl\": \"C-\"\n",
    "}\n",
    "\n",
    "student_dict[\"David\"] = \"D\"\n",
    "\n",
    "for student in student_dict:\n",
    "    student_dict[student] = {\"Math\": random.randint(0,100), \"Science\": random.randint(0,100), \"English\": random.randint(0,100)}\n",
    "\n",
    "student_set = set(student_dict.keys())\n",
    "\n",
    "print(student_dict)\n",
    "print(student_set)\n",
    "\n",
    "\n",
    "\n"
   ]
  },
  {
   "cell_type": "markdown",
   "metadata": {},
   "source": [
    "# Exercise 3"
   ]
  },
  {
   "cell_type": "code",
   "execution_count": 22,
   "metadata": {},
   "outputs": [
    {
     "name": "stdout",
     "output_type": "stream",
     "text": [
      "['Hello,', 'my', 'name', 'is', 'Bhushan!']\n",
      "Hello,|my|name|is|Bhushan!\n",
      "{'H': 1, 'e': 2, 'l': 2, 'o': 1, ',': 1, ' ': 4, 'm': 2, 'y': 1, 'n': 2, 'a': 2, 'i': 1, 's': 2, 'B': 1, 'h': 2, 'u': 1, '!': 1}\n"
     ]
    }
   ],
   "source": [
    "starting_string = \"Hello, my name is Bhushan!\"\n",
    "words = starting_string.split()\n",
    "print(words)\n",
    "new_string = \"\"\n",
    "\n",
    "for word in words:\n",
    "    if new_string:\n",
    "        new_string = new_string + \"|\" + word\n",
    "    else:\n",
    "        new_string = word\n",
    "\n",
    "print(new_string)\n",
    "\n",
    "count = {}\n",
    "\n",
    "for char in starting_string:\n",
    "    if char in count:\n",
    "        count[char] = count[char] + 1\n",
    "    else:\n",
    "        count[char] = 1\n",
    "\n",
    "print(count)"
   ]
  },
  {
   "cell_type": "markdown",
   "metadata": {},
   "source": [
    "# Exercise 4"
   ]
  },
  {
   "cell_type": "code",
   "execution_count": 25,
   "metadata": {},
   "outputs": [
    {
     "name": "stdout",
     "output_type": "stream",
     "text": [
      "[1, 3, 4, 99, 1000]\n"
     ]
    }
   ],
   "source": [
    "int_list = [1,2,3,4,1000]\n",
    "\n",
    "int_list.append(99)\n",
    "int_list.remove(2)\n",
    "int_list.sort()\n",
    "print(int_list)"
   ]
  }
 ],
 "metadata": {
  "kernelspec": {
   "display_name": "Python 3",
   "language": "python",
   "name": "python3"
  },
  "language_info": {
   "codemirror_mode": {
    "name": "ipython",
    "version": 3
   },
   "file_extension": ".py",
   "mimetype": "text/x-python",
   "name": "python",
   "nbconvert_exporter": "python",
   "pygments_lexer": "ipython3",
   "version": "3.11.2"
  }
 },
 "nbformat": 4,
 "nbformat_minor": 2
}
