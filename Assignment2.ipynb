{
 "cells": [
  {
   "cell_type": "code",
   "execution_count": 2,
   "metadata": {},
   "outputs": [
    {
     "name": "stdout",
     "output_type": "stream",
     "text": [
      "True\n",
      "True\n",
      "False\n",
      "False\n",
      "True\n"
     ]
    }
   ],
   "source": [
    "#Exercise 1\n",
    "def string_validator(input_string):\n",
    "    has_alphanumeric = any(char.isalnum() for char in input_string)\n",
    "    has_alpha = any(char.isalpha() for char in input_string)\n",
    "    has_digit = any(char.isdigit() for char in input_string)\n",
    "    has_lowercase = any(char.islower() for char in input_string)\n",
    "    has_uppercase = any(char.isupper() for char in input_string)\n",
    "    \n",
    "    print(has_alphanumeric)\n",
    "    print(has_alpha)\n",
    "    print(has_digit)\n",
    "    print(has_lowercase)\n",
    "    print(has_uppercase)\n",
    "\n",
    "# Example usage\n",
    "string = \"HELLO WORLD\"\n",
    "string_validator(string)\n"
   ]
  },
  {
   "cell_type": "code",
   "execution_count": 4,
   "metadata": {},
   "outputs": [
    {
     "name": "stdout",
     "output_type": "stream",
     "text": [
      "'hello 123 world' matches pattern '^\\w+'\n",
      "'hello 123 world' matches pattern '\\s\\d'\n",
      "'hello 123 world' matches pattern '[123]+'\n",
      "'hello 123 world' matches pattern '\\b(\\w*(\\w)\\2\\w*)\\b'\n",
      "'apple,' matches pattern '^\\w+'\n",
      "'apple,' matches pattern '\\w+\\W$'\n",
      "'apple,' matches pattern '\\b(\\w*(\\w)\\2\\w*)\\b'\n",
      "'112233' matches pattern '^\\w+'\n",
      "'112233' matches pattern '[123]+'\n",
      "'112233' matches pattern '\\b(\\w*(\\w)\\2\\w*)\\b'\n",
      "'book' matches pattern '^\\w+'\n",
      "'book' matches pattern '\\b(\\w*(\\w)\\2\\w*)\\b'\n",
      "'filler' matches pattern '^\\w+'\n",
      "'filler' matches pattern '\\b(\\w*(\\w)\\2\\w*)\\b'\n",
      "'skill' matches pattern '^\\w+'\n",
      "'skill' matches pattern '\\b(\\w*(\\w)\\2\\w*)\\b'\n",
      "'parrot' matches pattern '^\\w+'\n",
      "'parrot' matches pattern '\\b(\\w*(\\w)\\2\\w*)\\b'\n"
     ]
    }
   ],
   "source": [
    "import re\n",
    "\n",
    "# Example strings\n",
    "strings = [\n",
    "    \"hello 123 world\",\n",
    "    \"apple,\",\n",
    "    \"112233\",\n",
    "    \"book\",\n",
    "    \"filler\",\n",
    "    \"skill\",\n",
    "    \"parrot\"\n",
    "]\n",
    "\n",
    "regex_patterns = [\n",
    "    r\"^\\w+\",\n",
    "    r\"\\s\\d\",\n",
    "    r\"\\w+\\W$\",\n",
    "    r\"[123]+\",\n",
    "    r\"\\b(\\w*(\\w)\\2\\w*)\\b\"\n",
    "]\n",
    "\n",
    "for string in strings:\n",
    "    for pattern in regex_patterns:\n",
    "        if re.search(pattern, string):\n",
    "            print(f\"'{string}' matches pattern '{pattern}'\")\n"
   ]
  },
  {
   "cell_type": "code",
   "execution_count": 6,
   "metadata": {},
   "outputs": [
    {
     "name": "stdout",
     "output_type": "stream",
     "text": [
      "Word count of Chapter 1: 126085\n"
     ]
    }
   ],
   "source": [
    "import re\n",
    "\n",
    "# Read the text from the file\n",
    "with open('data/pride_and_prejudice.txt', 'r', encoding='utf-8') as file:\n",
    "    text = file.read()\n",
    "\n",
    "# Find the start of Chapter 1\n",
    "chapter_start = re.search(r'Chapter 1', text)\n",
    "if chapter_start:\n",
    "    chapter_text = text[chapter_start.start():]\n",
    "\n",
    "    # Split the text into words\n",
    "    words = re.findall(r'\\b\\w+\\b', chapter_text)\n",
    "\n",
    "    # Get the word count\n",
    "    word_count = len(words)\n",
    "    print(f\"Word count of Chapter 1: {word_count}\")\n",
    "else:\n",
    "    print(\"Chapter 1 not found in the text.\")\n"
   ]
  },
  {
   "cell_type": "code",
   "execution_count": 7,
   "metadata": {},
   "outputs": [
    {
     "name": "stdout",
     "output_type": "stream",
     "text": [
      "4\n"
     ]
    }
   ],
   "source": [
    "def calculate_word_score(word):\n",
    "    vowels = \"aeiouy\"\n",
    "    vowel_count = sum(1 for letter in word if letter.lower() in vowels)\n",
    "    return 1 if vowel_count % 2 == 1 else 2\n",
    "\n",
    "def calculate_total_score(words):\n",
    "    return sum(calculate_word_score(word) for word in words.split())\n",
    "\n",
    "# Example Input\n",
    "input_string = \"programming is awesome\"\n",
    "\n",
    "# Calculate the total score\n",
    "total_score = calculate_total_score(input_string)\n",
    "\n",
    "# Print the result\n",
    "print(total_score)\n"
   ]
  }
 ],
 "metadata": {
  "kernelspec": {
   "display_name": ".venv",
   "language": "python",
   "name": "python3"
  },
  "language_info": {
   "codemirror_mode": {
    "name": "ipython",
    "version": 3
   },
   "file_extension": ".py",
   "mimetype": "text/x-python",
   "name": "python",
   "nbconvert_exporter": "python",
   "pygments_lexer": "ipython3",
   "version": "3.11.2"
  }
 },
 "nbformat": 4,
 "nbformat_minor": 2
}
