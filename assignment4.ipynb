{
 "cells": [
  {
   "cell_type": "code",
   "execution_count": 6,
   "metadata": {},
   "outputs": [],
   "source": [
    "#APIS\n",
    "\n",
    "#Connect to a free API\n",
    "\n",
    "import requests"
   ]
  },
  {
   "cell_type": "code",
   "execution_count": 12,
   "metadata": {},
   "outputs": [
    {
     "name": "stdout",
     "output_type": "stream",
     "text": [
      "200\n"
     ]
    }
   ],
   "source": [
    "#No Auth\n",
    "from PIL import Image    # pip install Pillow\n",
    "from io import BytesIO\n",
    "def get_cat_image(status_code):\n",
    "    url = f'https://http.cat/{status_code}'\n",
    "\n",
    "    response = requests.get(url)\n",
    "    print(response.status_code)\n",
    "    img = Image.open(BytesIO(response.content))\n",
    "    img.show()\n",
    "\n",
    "get_cat_image(100)"
   ]
  },
  {
   "cell_type": "code",
   "execution_count": 20,
   "metadata": {},
   "outputs": [
    {
     "name": "stdout",
     "output_type": "stream",
     "text": [
      "https://api.nal.usda.gov/fdc/v1/food/534358?api_key=KiaTsyxaQfMBhKt1E3BqhDAvkOui8Xgq7uTCXw4O\n",
      "200\n",
      "b'{\"discontinuedDate\":\"\",\"foodComponents\":[],\"foodAttributes\":[],\"foodPortions\":[],\"fdcId\":534358,\"description\":\"NUT \\'N BERRY MIX\",\"publicationDate\":\"4/1/2019\",\"foodNutrients\":[{\"type\":\"FoodNutrient\",\"nutrient\":{\"id\":1104,\"number\":\"318\",\"name\":\"Vitamin A, IU\",\"rank\":7500,\"unitName\":\"IU\"},\"foodNutrientDerivation\":{\"id\":75,\"code\":\"LCCD\",\"description\":\"Calculated from a daily value percentage per serving size measure\"},\"id\":4056287,\"amount\":0E-8},{\"type\":\"FoodNutrient\",\"nutrient\":{\"id\":1087,\"number\":\"301\",\"name\":\"Calcium, Ca\",\"rank\":5300,\"unitName\":\"mg\"},\"foodNutrientDerivation\":{\"id\":75,\"code\":\"LCCD\",\"description\":\"Calculated from a daily value percentage per serving size measure\"},\"id\":4056284,\"amount\":71.00000000},{\"type\":\"FoodNutrient\",\"nutrient\":{\"id\":1089,\"number\":\"303\",\"name\":\"Iron, Fe\",\"rank\":5400,\"unitName\":\"mg\"},\"foodNutrientDerivation\":{\"id\":75,\"code\":\"LCCD\",\"description\":\"Calculated from a daily value percentage per serving size measure\"},\"id\":4056285,\"amount\":2.57000000},{\"type\":\"FoodNutrient\",\"nutrient\":{\"id\":1253,\"number\":\"601\",\"name\":\"Cholesterol\",\"rank\":15700,\"unitName\":\"mg\"},\"foodNutrientDerivation\":{\"id\":75,\"code\":\"LCCD\",\"description\":\"Calculated from a daily value percentage per serving size measure\"},\"id\":4056289,\"amount\":0E-8},{\"type\":\"FoodNutrient\",\"nutrient\":{\"id\":1093,\"number\":\"307\",\"name\":\"Sodium, Na\",\"rank\":5800,\"unitName\":\"mg\"},\"foodNutrientDerivation\":{\"id\":75,\"code\":\"LCCD\",\"description\":\"Calculated from a daily value percentage per serving size measure\"},\"id\":4056286,\"amount\":0E-8},{\"type\":\"FoodNutrient\",\"nutrient\":{\"id\":1162,\"number\":\"401\",\"name\":\"Vitamin C, total ascorbic acid\",\"rank\":6300,\"unitName\":\"mg\"},\"foodNutrientDerivation\":{\"id\":75,\"code\":\"LCCD\",\"description\":\"Calculated from a daily value percentage per serving size measure\"},\"id\":4056288,\"amount\":0E-8},{\"type\":\"FoodNutrient\",\"nutrient\":{\"id\":1004,\"number\":\"204\",\"name\":\"Total lipid (fat)\",\"rank\":800,\"unitName\":\"g\"},\"foodNutrientDerivation\":{\"id\":70,\"code\":\"LCCS\",\"description\":\"Calculated from value per serving size measure\"},\"id\":6000020,\"amount\":32.14000000},{\"type\":\"FoodNutrient\",\"nutrient\":{\"id\":1008,\"number\":\"208\",\"name\":\"Energy\",\"rank\":300,\"unitName\":\"kcal\"},\"foodNutrientDerivation\":{\"id\":70,\"code\":\"LCCS\",\"description\":\"Calculated from value per serving size measure\"},\"id\":6000022,\"amount\":500.00000000},{\"type\":\"FoodNutrient\",\"nutrient\":{\"id\":1003,\"number\":\"203\",\"name\":\"Protein\",\"rank\":600,\"unitName\":\"g\"},\"foodNutrientDerivation\":{\"id\":70,\"code\":\"LCCS\",\"description\":\"Calculated from value per serving size measure\"},\"id\":6000019,\"amount\":14.29000000},{\"type\":\"FoodNutrient\",\"nutrient\":{\"id\":1079,\"number\":\"291\",\"name\":\"Fiber, total dietary\",\"rank\":1200,\"unitName\":\"g\"},\"foodNutrientDerivation\":{\"id\":70,\"code\":\"LCCS\",\"description\":\"Calculated from value per serving size measure\"},\"id\":6000024,\"amount\":7.10000000},{\"type\":\"FoodNutrient\",\"nutrient\":{\"id\":1257,\"number\":\"605\",\"name\":\"Fatty acids, total trans\",\"rank\":15400,\"unitName\":\"g\"},\"foodNutrientDerivation\":{\"id\":70,\"code\":\"LCCS\",\"description\":\"Calculated from value per serving size measure\"},\"id\":6000026,\"amount\":0E-8},{\"type\":\"FoodNutrient\",\"nutrient\":{\"id\":2000,\"number\":\"269\",\"name\":\"Total Sugars\",\"rank\":1510,\"unitName\":\"g\"},\"foodNutrientDerivation\":{\"id\":70,\"code\":\"LCCS\",\"description\":\"Calculated from value per serving size measure\"},\"id\":6000023,\"amount\":28.57000000},{\"type\":\"FoodNutrient\",\"nutrient\":{\"id\":1258,\"number\":\"606\",\"name\":\"Fatty acids, total saturated\",\"rank\":9700,\"unitName\":\"g\"},\"foodNutrientDerivation\":{\"id\":70,\"code\":\"LCCS\",\"description\":\"Calculated from value per serving size measure\"},\"id\":6000027,\"amount\":3.57000000},{\"type\":\"FoodNutrient\",\"nutrient\":{\"id\":1005,\"number\":\"205\",\"name\":\"Carbohydrate, by difference\",\"rank\":1110,\"unitName\":\"g\"},\"foodNutrientDerivation\":{\"id\":70,\"code\":\"LCCS\",\"description\":\"Calculated from value per serving size measure\"},\"id\":6000021,\"amount\":42.86000000},{\"type\":\"FoodNutrient\",\"nutrient\":{\"id\":1092,\"number\":\"306\",\"name\":\"Potassium, K\",\"rank\":5700,\"unitName\":\"mg\"},\"foodNutrientDerivation\":{\"id\":70,\"code\":\"LCCS\",\"description\":\"Calculated from value per serving size measure\"},\"id\":6000025,\"amount\":571.00000000}],\"dataType\":\"Branded\",\"foodClass\":\"Branded\",\"modifiedDate\":\"8/18/2018\",\"availableDate\":\"8/18/2018\",\"brandOwner\":\"Kar Nut Products Company\",\"dataSource\":\"LI\",\"brandedFoodCategory\":\"Popcorn, Peanuts, Seeds & Related Snacks\",\"gtinUpc\":\"077034085228\",\"householdServingFullText\":\"1 ONZ\",\"ingredients\":\"PEANUTS (PEANUTS, PEANUT AND/OR SUNFLOWER OIL). RAISINS. DRIED CRANBERRIES (CRANBERRIES, SUGAR, SUNFLOWER OIL). SUNFLOWER KERNELS AND ALMONDS (SUNFLOWER KERNELS AND ALMONDS, PEANUT AND/OR SUNFLOWER OIL).\",\"marketCountry\":\"United States\",\"servingSize\":28.00000000,\"servingSizeUnit\":\"g\",\"foodUpdateLog\":[{\"discontinuedDate\":\"\",\"foodAttributes\":[],\"fdcId\":2105222,\"description\":\"NUT \\'N BERRY MIX\",\"publicationDate\":\"10/28/2021\",\"dataType\":\"Branded\",\"foodClass\":\"Branded\",\"modifiedDate\":\"8/18/2018\",\"availableDate\":\"8/18/2018\",\"brandOwner\":\"Kar Nut Products Company\",\"brandName\":\"KAR\\'S\",\"dataSource\":\"LI\",\"brandedFoodCategory\":\"Popcorn, Peanuts, Seeds & Related Snacks\",\"gtinUpc\":\"077034085228\",\"ingredients\":\"PEANUTS (PEANUTS, PEANUT AND/OR SUNFLOWER OIL). RAISINS. DRIED CRANBERRIES (CRANBERRIES, SUGAR, SUNFLOWER OIL). SUNFLOWER KERNELS AND ALMONDS (SUNFLOWER KERNELS AND ALMONDS, PEANUT AND/OR SUNFLOWER OIL).\",\"marketCountry\":\"United States\",\"servingSize\":28.00000000,\"servingSizeUnit\":\"g\",\"packageWeight\":\"18 oz/510 g\"},{\"discontinuedDate\":\"\",\"foodAttributes\":[],\"fdcId\":1621516,\"description\":\"NUT \\'N BERRY MIX\",\"publicationDate\":\"3/19/2021\",\"dataType\":\"Branded\",\"foodClass\":\"Branded\",\"modifiedDate\":\"8/18/2018\",\"availableDate\":\"8/18/2018\",\"brandOwner\":\"Kar Nut Products Company\",\"brandName\":\"KAR\\'S\",\"dataSource\":\"LI\",\"brandedFoodCategory\":\"Popcorn, Peanuts, Seeds & Related Snacks\",\"gtinUpc\":\"077034085228\",\"ingredients\":\"PEANUTS (PEANUTS, PEANUT AND/OR SUNFLOWER OIL). RAISINS. DRIED CRANBERRIES (CRANBERRIES, SUGAR, SUNFLOWER OIL). SUNFLOWER KERNELS AND ALMONDS (SUNFLOWER KERNELS AND ALMONDS, PEANUT AND/OR SUNFLOWER OIL).\",\"marketCountry\":\"United States\",\"servingSize\":28.00000000,\"servingSizeUnit\":\"g\"},{\"discontinuedDate\":\"\",\"foodAttributes\":[],\"fdcId\":1329373,\"description\":\"NUT \\'N BERRY MIX\",\"publicationDate\":\"2/26/2021\",\"dataType\":\"Branded\",\"foodClass\":\"Branded\",\"modifiedDate\":\"8/18/2018\",\"availableDate\":\"8/18/2018\",\"brandOwner\":\"Kar Nut Products Company\",\"brandName\":\"KAR\\'S\",\"subbrandName\":\"\",\"dataSource\":\"LI\",\"brandedFoodCategory\":\"Popcorn, Peanuts, Seeds & Related Snacks\",\"gtinUpc\":\"077034085228\",\"ingredients\":\"PEANUTS (PEANUTS, PEANUT AND/OR SUNFLOWER OIL). RAISINS. DRIED CRANBERRIES (CRANBERRIES, SUGAR, SUNFLOWER OIL). SUNFLOWER KERNELS AND ALMONDS (SUNFLOWER KERNELS AND ALMONDS, PEANUT AND/OR SUNFLOWER OIL).\",\"marketCountry\":\"United States\",\"servingSize\":28.00000000,\"servingSizeUnit\":\"g\",\"packageWeight\":\"\",\"notaSignificantSourceOf\":\"\"},{\"discontinuedDate\":\"\",\"foodAttributes\":[],\"fdcId\":534358,\"description\":\"NUT \\'N BERRY MIX\",\"publicationDate\":\"4/1/2019\",\"dataType\":\"Branded\",\"foodClass\":\"Branded\",\"modifiedDate\":\"8/18/2018\",\"availableDate\":\"8/18/2018\",\"brandOwner\":\"Kar Nut Products Company\",\"dataSource\":\"LI\",\"brandedFoodCategory\":\"Popcorn, Peanuts, Seeds & Related Snacks\",\"gtinUpc\":\"077034085228\",\"householdServingFullText\":\"1 ONZ\",\"ingredients\":\"PEANUTS (PEANUTS, PEANUT AND/OR SUNFLOWER OIL). RAISINS. DRIED CRANBERRIES (CRANBERRIES, SUGAR, SUNFLOWER OIL). SUNFLOWER KERNELS AND ALMONDS (SUNFLOWER KERNELS AND ALMONDS, PEANUT AND/OR SUNFLOWER OIL).\",\"marketCountry\":\"United States\",\"servingSize\":28.00000000,\"servingSizeUnit\":\"g\"}],\"labelNutrients\":{\"fat\":{\"value\":9.00},\"saturatedFat\":{\"value\":1.00},\"transFat\":{\"value\":0.000},\"cholesterol\":{\"value\":0.000},\"sodium\":{\"value\":0.000},\"carbohydrates\":{\"value\":12.0},\"fiber\":{\"value\":1.99},\"sugars\":{\"value\":8.00},\"protein\":{\"value\":4.00},\"calcium\":{\"value\":19.9},\"iron\":{\"value\":0.720},\"potassium\":{\"value\":160},\"calories\":{\"value\":140}}}'\n"
     ]
    }
   ],
   "source": [
    "#API Key\n",
    "import os \n",
    "from dotenv import load_dotenv\n",
    "\n",
    "load_dotenv()\n",
    "api_key = os.getenv('FOOD_DATA_API_KEY')\n",
    "food_id = '534358'\n",
    "url = 'https://api.nal.usda.gov/fdc/v1/food/' + food_id + '?api_key=' + api_key\n",
    "print(url)\n",
    "response = requests.get(url)\n",
    "print(response.status_code)\n",
    "print(response.content)\n",
    "\n"
   ]
  },
  {
   "cell_type": "code",
   "execution_count": 5,
   "metadata": {},
   "outputs": [],
   "source": [
    "#O Auth\n",
    "\n"
   ]
  },
  {
   "cell_type": "code",
   "execution_count": null,
   "metadata": {},
   "outputs": [],
   "source": [
    "#API Calls on a schedule"
   ]
  }
 ],
 "metadata": {
  "kernelspec": {
   "display_name": ".venv",
   "language": "python",
   "name": "python3"
  },
  "language_info": {
   "codemirror_mode": {
    "name": "ipython",
    "version": 3
   },
   "file_extension": ".py",
   "mimetype": "text/x-python",
   "name": "python",
   "nbconvert_exporter": "python",
   "pygments_lexer": "ipython3",
   "version": "3.11.2"
  }
 },
 "nbformat": 4,
 "nbformat_minor": 2
}
