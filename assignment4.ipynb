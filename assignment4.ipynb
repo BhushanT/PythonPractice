{
 "cells": [
  {
   "cell_type": "code",
   "execution_count": 26,
   "metadata": {},
   "outputs": [],
   "source": [
    "#APIS\n",
    "\n",
    "#Connect to a free API\n",
    "\n",
    "import requests"
   ]
  },
  {
   "cell_type": "code",
   "execution_count": 27,
   "metadata": {},
   "outputs": [
    {
     "name": "stdout",
     "output_type": "stream",
     "text": [
      "200\n"
     ]
    }
   ],
   "source": [
    "#No Auth\n",
    "from PIL import Image    # pip install Pillow\n",
    "from io import BytesIO\n",
    "def get_cat_image(status_code):\n",
    "    url = f'https://http.cat/{status_code}'\n",
    "\n",
    "    response = requests.get(url)\n",
    "    print(response.status_code)\n",
    "    img = Image.open(BytesIO(response.content))\n",
    "    img.show()\n",
    "\n",
    "get_cat_image(100)"
   ]
  },
  {
   "cell_type": "code",
   "execution_count": 28,
   "metadata": {},
   "outputs": [
    {
     "name": "stdout",
     "output_type": "stream",
     "text": [
      "https://api.nal.usda.gov/fdc/v1/food/534358?api_key=KiaTsyxaQfMBhKt1E3BqhDAvkOui8Xgq7uTCXw4O\n",
      "200\n",
      "b'{\"discontinuedDate\":\"\",\"foodComponents\":[],\"foodAttributes\":[],\"foodPortions\":[],\"fdcId\":534358,\"description\":\"NUT \\'N BERRY MIX\",\"publicationDate\":\"4/1/2019\",\"foodNutrients\":[{\"type\":\"FoodNutrient\",\"nutrient\":{\"id\":1104,\"number\":\"318\",\"name\":\"Vitamin A, IU\",\"rank\":7500,\"unitName\":\"IU\"},\"foodNutrientDerivation\":{\"id\":75,\"code\":\"LCCD\",\"description\":\"Calculated from a daily value percentage per serving size measure\"},\"id\":4056287,\"amount\":0E-8},{\"type\":\"FoodNutrient\",\"nutrient\":{\"id\":1087,\"number\":\"301\",\"name\":\"Calcium, Ca\",\"rank\":5300,\"unitName\":\"mg\"},\"foodNutrientDerivation\":{\"id\":75,\"code\":\"LCCD\",\"description\":\"Calculated from a daily value percentage per serving size measure\"},\"id\":4056284,\"amount\":71.00000000},{\"type\":\"FoodNutrient\",\"nutrient\":{\"id\":1089,\"number\":\"303\",\"name\":\"Iron, Fe\",\"rank\":5400,\"unitName\":\"mg\"},\"foodNutrientDerivation\":{\"id\":75,\"code\":\"LCCD\",\"description\":\"Calculated from a daily value percentage per serving size measure\"},\"id\":4056285,\"amount\":2.57000000},{\"type\":\"FoodNutrient\",\"nutrient\":{\"id\":1253,\"number\":\"601\",\"name\":\"Cholesterol\",\"rank\":15700,\"unitName\":\"mg\"},\"foodNutrientDerivation\":{\"id\":75,\"code\":\"LCCD\",\"description\":\"Calculated from a daily value percentage per serving size measure\"},\"id\":4056289,\"amount\":0E-8},{\"type\":\"FoodNutrient\",\"nutrient\":{\"id\":1093,\"number\":\"307\",\"name\":\"Sodium, Na\",\"rank\":5800,\"unitName\":\"mg\"},\"foodNutrientDerivation\":{\"id\":75,\"code\":\"LCCD\",\"description\":\"Calculated from a daily value percentage per serving size measure\"},\"id\":4056286,\"amount\":0E-8},{\"type\":\"FoodNutrient\",\"nutrient\":{\"id\":1162,\"number\":\"401\",\"name\":\"Vitamin C, total ascorbic acid\",\"rank\":6300,\"unitName\":\"mg\"},\"foodNutrientDerivation\":{\"id\":75,\"code\":\"LCCD\",\"description\":\"Calculated from a daily value percentage per serving size measure\"},\"id\":4056288,\"amount\":0E-8},{\"type\":\"FoodNutrient\",\"nutrient\":{\"id\":1004,\"number\":\"204\",\"name\":\"Total lipid (fat)\",\"rank\":800,\"unitName\":\"g\"},\"foodNutrientDerivation\":{\"id\":70,\"code\":\"LCCS\",\"description\":\"Calculated from value per serving size measure\"},\"id\":6000020,\"amount\":32.14000000},{\"type\":\"FoodNutrient\",\"nutrient\":{\"id\":1008,\"number\":\"208\",\"name\":\"Energy\",\"rank\":300,\"unitName\":\"kcal\"},\"foodNutrientDerivation\":{\"id\":70,\"code\":\"LCCS\",\"description\":\"Calculated from value per serving size measure\"},\"id\":6000022,\"amount\":500.00000000},{\"type\":\"FoodNutrient\",\"nutrient\":{\"id\":1003,\"number\":\"203\",\"name\":\"Protein\",\"rank\":600,\"unitName\":\"g\"},\"foodNutrientDerivation\":{\"id\":70,\"code\":\"LCCS\",\"description\":\"Calculated from value per serving size measure\"},\"id\":6000019,\"amount\":14.29000000},{\"type\":\"FoodNutrient\",\"nutrient\":{\"id\":1079,\"number\":\"291\",\"name\":\"Fiber, total dietary\",\"rank\":1200,\"unitName\":\"g\"},\"foodNutrientDerivation\":{\"id\":70,\"code\":\"LCCS\",\"description\":\"Calculated from value per serving size measure\"},\"id\":6000024,\"amount\":7.10000000},{\"type\":\"FoodNutrient\",\"nutrient\":{\"id\":1257,\"number\":\"605\",\"name\":\"Fatty acids, total trans\",\"rank\":15400,\"unitName\":\"g\"},\"foodNutrientDerivation\":{\"id\":70,\"code\":\"LCCS\",\"description\":\"Calculated from value per serving size measure\"},\"id\":6000026,\"amount\":0E-8},{\"type\":\"FoodNutrient\",\"nutrient\":{\"id\":2000,\"number\":\"269\",\"name\":\"Total Sugars\",\"rank\":1510,\"unitName\":\"g\"},\"foodNutrientDerivation\":{\"id\":70,\"code\":\"LCCS\",\"description\":\"Calculated from value per serving size measure\"},\"id\":6000023,\"amount\":28.57000000},{\"type\":\"FoodNutrient\",\"nutrient\":{\"id\":1258,\"number\":\"606\",\"name\":\"Fatty acids, total saturated\",\"rank\":9700,\"unitName\":\"g\"},\"foodNutrientDerivation\":{\"id\":70,\"code\":\"LCCS\",\"description\":\"Calculated from value per serving size measure\"},\"id\":6000027,\"amount\":3.57000000},{\"type\":\"FoodNutrient\",\"nutrient\":{\"id\":1005,\"number\":\"205\",\"name\":\"Carbohydrate, by difference\",\"rank\":1110,\"unitName\":\"g\"},\"foodNutrientDerivation\":{\"id\":70,\"code\":\"LCCS\",\"description\":\"Calculated from value per serving size measure\"},\"id\":6000021,\"amount\":42.86000000},{\"type\":\"FoodNutrient\",\"nutrient\":{\"id\":1092,\"number\":\"306\",\"name\":\"Potassium, K\",\"rank\":5700,\"unitName\":\"mg\"},\"foodNutrientDerivation\":{\"id\":70,\"code\":\"LCCS\",\"description\":\"Calculated from value per serving size measure\"},\"id\":6000025,\"amount\":571.00000000}],\"dataType\":\"Branded\",\"foodClass\":\"Branded\",\"modifiedDate\":\"8/18/2018\",\"availableDate\":\"8/18/2018\",\"brandOwner\":\"Kar Nut Products Company\",\"dataSource\":\"LI\",\"brandedFoodCategory\":\"Popcorn, Peanuts, Seeds & Related Snacks\",\"gtinUpc\":\"077034085228\",\"householdServingFullText\":\"1 ONZ\",\"ingredients\":\"PEANUTS (PEANUTS, PEANUT AND/OR SUNFLOWER OIL). RAISINS. DRIED CRANBERRIES (CRANBERRIES, SUGAR, SUNFLOWER OIL). SUNFLOWER KERNELS AND ALMONDS (SUNFLOWER KERNELS AND ALMONDS, PEANUT AND/OR SUNFLOWER OIL).\",\"marketCountry\":\"United States\",\"servingSize\":28.00000000,\"servingSizeUnit\":\"g\",\"foodUpdateLog\":[{\"discontinuedDate\":\"\",\"foodAttributes\":[],\"fdcId\":2105222,\"description\":\"NUT \\'N BERRY MIX\",\"publicationDate\":\"10/28/2021\",\"dataType\":\"Branded\",\"foodClass\":\"Branded\",\"modifiedDate\":\"8/18/2018\",\"availableDate\":\"8/18/2018\",\"brandOwner\":\"Kar Nut Products Company\",\"brandName\":\"KAR\\'S\",\"dataSource\":\"LI\",\"brandedFoodCategory\":\"Popcorn, Peanuts, Seeds & Related Snacks\",\"gtinUpc\":\"077034085228\",\"ingredients\":\"PEANUTS (PEANUTS, PEANUT AND/OR SUNFLOWER OIL). RAISINS. DRIED CRANBERRIES (CRANBERRIES, SUGAR, SUNFLOWER OIL). SUNFLOWER KERNELS AND ALMONDS (SUNFLOWER KERNELS AND ALMONDS, PEANUT AND/OR SUNFLOWER OIL).\",\"marketCountry\":\"United States\",\"servingSize\":28.00000000,\"servingSizeUnit\":\"g\",\"packageWeight\":\"18 oz/510 g\"},{\"discontinuedDate\":\"\",\"foodAttributes\":[],\"fdcId\":1621516,\"description\":\"NUT \\'N BERRY MIX\",\"publicationDate\":\"3/19/2021\",\"dataType\":\"Branded\",\"foodClass\":\"Branded\",\"modifiedDate\":\"8/18/2018\",\"availableDate\":\"8/18/2018\",\"brandOwner\":\"Kar Nut Products Company\",\"brandName\":\"KAR\\'S\",\"dataSource\":\"LI\",\"brandedFoodCategory\":\"Popcorn, Peanuts, Seeds & Related Snacks\",\"gtinUpc\":\"077034085228\",\"ingredients\":\"PEANUTS (PEANUTS, PEANUT AND/OR SUNFLOWER OIL). RAISINS. DRIED CRANBERRIES (CRANBERRIES, SUGAR, SUNFLOWER OIL). SUNFLOWER KERNELS AND ALMONDS (SUNFLOWER KERNELS AND ALMONDS, PEANUT AND/OR SUNFLOWER OIL).\",\"marketCountry\":\"United States\",\"servingSize\":28.00000000,\"servingSizeUnit\":\"g\"},{\"discontinuedDate\":\"\",\"foodAttributes\":[],\"fdcId\":1329373,\"description\":\"NUT \\'N BERRY MIX\",\"publicationDate\":\"2/26/2021\",\"dataType\":\"Branded\",\"foodClass\":\"Branded\",\"modifiedDate\":\"8/18/2018\",\"availableDate\":\"8/18/2018\",\"brandOwner\":\"Kar Nut Products Company\",\"brandName\":\"KAR\\'S\",\"subbrandName\":\"\",\"dataSource\":\"LI\",\"brandedFoodCategory\":\"Popcorn, Peanuts, Seeds & Related Snacks\",\"gtinUpc\":\"077034085228\",\"ingredients\":\"PEANUTS (PEANUTS, PEANUT AND/OR SUNFLOWER OIL). RAISINS. DRIED CRANBERRIES (CRANBERRIES, SUGAR, SUNFLOWER OIL). SUNFLOWER KERNELS AND ALMONDS (SUNFLOWER KERNELS AND ALMONDS, PEANUT AND/OR SUNFLOWER OIL).\",\"marketCountry\":\"United States\",\"servingSize\":28.00000000,\"servingSizeUnit\":\"g\",\"packageWeight\":\"\",\"notaSignificantSourceOf\":\"\"},{\"discontinuedDate\":\"\",\"foodAttributes\":[],\"fdcId\":534358,\"description\":\"NUT \\'N BERRY MIX\",\"publicationDate\":\"4/1/2019\",\"dataType\":\"Branded\",\"foodClass\":\"Branded\",\"modifiedDate\":\"8/18/2018\",\"availableDate\":\"8/18/2018\",\"brandOwner\":\"Kar Nut Products Company\",\"dataSource\":\"LI\",\"brandedFoodCategory\":\"Popcorn, Peanuts, Seeds & Related Snacks\",\"gtinUpc\":\"077034085228\",\"householdServingFullText\":\"1 ONZ\",\"ingredients\":\"PEANUTS (PEANUTS, PEANUT AND/OR SUNFLOWER OIL). RAISINS. DRIED CRANBERRIES (CRANBERRIES, SUGAR, SUNFLOWER OIL). SUNFLOWER KERNELS AND ALMONDS (SUNFLOWER KERNELS AND ALMONDS, PEANUT AND/OR SUNFLOWER OIL).\",\"marketCountry\":\"United States\",\"servingSize\":28.00000000,\"servingSizeUnit\":\"g\"}],\"labelNutrients\":{\"fat\":{\"value\":9.00},\"saturatedFat\":{\"value\":1.00},\"transFat\":{\"value\":0.000},\"cholesterol\":{\"value\":0.000},\"sodium\":{\"value\":0.000},\"carbohydrates\":{\"value\":12.0},\"fiber\":{\"value\":1.99},\"sugars\":{\"value\":8.00},\"protein\":{\"value\":4.00},\"calcium\":{\"value\":19.9},\"iron\":{\"value\":0.720},\"potassium\":{\"value\":160},\"calories\":{\"value\":140}}}'\n"
     ]
    }
   ],
   "source": [
    "#API Key\n",
    "import os \n",
    "from dotenv import load_dotenv\n",
    "\n",
    "load_dotenv()\n",
    "api_key = os.getenv('FOOD_DATA_API_KEY')\n",
    "food_id = '534358'\n",
    "url = 'https://api.nal.usda.gov/fdc/v1/food/' + food_id + '?api_key=' + api_key\n",
    "print(url)\n",
    "response = requests.get(url)\n",
    "print(response.status_code)\n",
    "print(response.content)\n",
    "\n"
   ]
  },
  {
   "cell_type": "code",
   "execution_count": 35,
   "metadata": {},
   "outputs": [
    {
     "name": "stdout",
     "output_type": "stream",
     "text": [
      "b'{\"data\":{\"Media\":{\"id\":15125,\"title\":{\"romaji\":\"Teekyuu\",\"english\":\"Teekyuu\",\"native\":\"\\\\u3066\\\\u30fc\\\\u304d\\\\u3085\\\\u3046\"}}}}'\n"
     ]
    }
   ],
   "source": [
    "#O Auth\n",
    "import webbrowser\n",
    "from urllib.parse import urlencode, urlparse, parse_qs\n",
    "import os\n",
    "from dotenv import load_dotenv\n",
    "\n",
    "load_dotenv()\n",
    "# Replace these with your actual client_id and client_secret\n",
    "client_id = os.getenv('ANILIST_ID')\n",
    "client_secret = os.getenv('ANILIST_SECRET')\n",
    "redirect_uri = 'http://localhost:8080/callback'\n",
    "\n",
    "\n",
    "# Step 1: Get the authorization code\n",
    "auth_url = 'https://anilist.co/api/v2/oauth/authorize'\n",
    "auth_params = {\n",
    "    'client_id': client_id,\n",
    "    'redirect_uri': redirect_uri,\n",
    "    'response_type': 'code',\n",
    "    'scope': 'openid'\n",
    "}\n",
    "\n",
    "# Open the authorization URL in the browser\n",
    "webbrowser.open(f\"{auth_url}?{urlencode(auth_params)}\")\n",
    "\n",
    "\n",
    "\n",
    "query = '''\n",
    "query ($id: Int) { # Define which variables will be used in the query (id)\n",
    "  Media (id: $id, type: ANIME) { # Insert our variables into the query arguments (id) (type: ANIME is hard-coded in the query)\n",
    "    id\n",
    "    title {\n",
    "      romaji\n",
    "      english\n",
    "      native\n",
    "    }\n",
    "  }\n",
    "}\n",
    "'''\n",
    "\n",
    "# Define our query variables and values that will be used in the query request\n",
    "variables = {\n",
    "    'id': 15125\n",
    "}\n",
    "\n",
    "url = 'https://graphql.anilist.co'\n",
    "\n",
    "# Make the HTTP Api request\n",
    "response = requests.post(url, json={'query': query, 'variables': variables})\n",
    "\n",
    "print(response.content)"
   ]
  },
  {
   "cell_type": "code",
   "execution_count": 38,
   "metadata": {},
   "outputs": [
    {
     "name": "stdout",
     "output_type": "stream",
     "text": [
      "200\n",
      "200\n"
     ]
    },
    {
     "ename": "KeyboardInterrupt",
     "evalue": "",
     "output_type": "error",
     "traceback": [
      "\u001b[1;31m---------------------------------------------------------------------------\u001b[0m",
      "\u001b[1;31mKeyboardInterrupt\u001b[0m                         Traceback (most recent call last)",
      "Cell \u001b[1;32mIn[38], line 20\u001b[0m\n\u001b[0;32m     18\u001b[0m \u001b[38;5;28;01mwhile\u001b[39;00m \u001b[38;5;28;01mTrue\u001b[39;00m:\n\u001b[0;32m     19\u001b[0m     schedule\u001b[38;5;241m.\u001b[39mrun_pending()\n\u001b[1;32m---> 20\u001b[0m     time\u001b[38;5;241m.\u001b[39msleep(\u001b[38;5;241m1\u001b[39m)\n",
      "\u001b[1;31mKeyboardInterrupt\u001b[0m: "
     ]
    }
   ],
   "source": [
    "#API Calls on a schedule\n",
    "\n",
    "import schedule\n",
    "import time\n",
    "import requests\n",
    "\n",
    "def job():\n",
    "    url = f'https://http.cat/100'\n",
    "\n",
    "    response = requests.get(url)\n",
    "    print(response.status_code)\n",
    "    img = Image.open(BytesIO(response.content))\n",
    "    img.show()\n",
    "\n",
    "# Schedule the job every 30 seconds\n",
    "schedule.every(0.5).minutes.do(job)\n",
    "\n",
    "while True:\n",
    "    schedule.run_pending()\n",
    "    time.sleep(1)\n"
   ]
  }
 ],
 "metadata": {
  "kernelspec": {
   "display_name": ".venv",
   "language": "python",
   "name": "python3"
  },
  "language_info": {
   "codemirror_mode": {
    "name": "ipython",
    "version": 3
   },
   "file_extension": ".py",
   "mimetype": "text/x-python",
   "name": "python",
   "nbconvert_exporter": "python",
   "pygments_lexer": "ipython3",
   "version": "3.11.2"
  }
 },
 "nbformat": 4,
 "nbformat_minor": 2
}
